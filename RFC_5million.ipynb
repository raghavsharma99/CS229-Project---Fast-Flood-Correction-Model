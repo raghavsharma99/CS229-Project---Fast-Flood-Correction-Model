{
 "cells": [
  {
   "cell_type": "code",
   "execution_count": 1,
   "id": "bdcdc718-8e0b-4e2c-bd4b-e53f6fa042e1",
   "metadata": {},
   "outputs": [],
   "source": [
    "import numpy as np\n",
    "import pandas as pd"
   ]
  },
  {
   "cell_type": "code",
   "execution_count": 102,
   "id": "2ec74cf0-ddc9-4334-82aa-25a214a89953",
   "metadata": {},
   "outputs": [],
   "source": [
    "import numpy as np\n",
    "import scipy as sp\n",
    "import pandas as pd\n",
    "import matplotlib.pyplot as plt\n",
    "import seaborn as sns\n",
    "import sklearn\n",
    "import joblib\n",
    "import pickle\n",
    "from datetime import datetime\n",
    "from sklearn.utils import shuffle\n",
    "from sklearn.preprocessing import StandardScaler, KBinsDiscretizer\n",
    "from sklearn.ensemble import RandomForestClassifier\n",
    "from sklearn.ensemble import RandomForestRegressor\n",
    "from sklearn.metrics import confusion_matrix\n",
    "from sklearn.model_selection import train_test_split, GridSearchCV\n",
    "from sklearn.metrics import r2_score, mean_absolute_error, mean_squared_error, mean_absolute_percentage_error, accuracy_score, precision_score, recall_score, f1_score, classification_report,  confusion_matrix"
   ]
  },
  {
   "cell_type": "code",
   "execution_count": 3,
   "id": "3e804c0d-560d-4e0a-ae07-e2d91cf8e1f5",
   "metadata": {},
   "outputs": [],
   "source": [
    "dfFinal = pd.read_csv(r'gs://cloud-ai-platform-9a0d9aeb-97fd-41ed-9a1a-8ee8a5e205bc/differenceAllLevels.csv').sample(5_000_00, random_state=42)"
   ]
  },
  {
   "cell_type": "code",
   "execution_count": 4,
   "id": "a7cecbdf-7186-456d-8717-67484c238cb4",
   "metadata": {},
   "outputs": [],
   "source": [
    "xcols = ['inlandDistance', 'elevation', 'waterDistance', 'waterLevel', 'bathtubDepth']\n",
    "ycols = ['difference']\n",
    "indices = dfFinal.index\n",
    "x = dfFinal[xcols]\n",
    "y = dfFinal[ycols]"
   ]
  },
  {
   "cell_type": "code",
   "execution_count": 5,
   "id": "d97b5bbf-e6c5-4c55-87db-7b31116511ae",
   "metadata": {},
   "outputs": [],
   "source": [
    "xcols = ['inlandDistance', 'elevation', 'waterDistance', 'waterLevel', 'bathtubDepth']\n",
    "ycols = ['difference']\n",
    "indices = dfFinal.index\n",
    "x = dfFinal[xcols]\n",
    "y = dfFinal[ycols]"
   ]
  },
  {
   "cell_type": "code",
   "execution_count": 6,
   "id": "b11f8e99-6b0e-4099-b06b-e2543769befe",
   "metadata": {},
   "outputs": [],
   "source": [
    "X = x.to_numpy()\n",
    "y = y.to_numpy()"
   ]
  },
  {
   "cell_type": "code",
   "execution_count": 7,
   "id": "5198d1f8-ce83-4fd1-aa5a-9d21355bd9e6",
   "metadata": {},
   "outputs": [],
   "source": [
    "XX_train, XX_test, yy_train, yy_test = train_test_split(X, y, test_size=0.2, random_state=42)\n",
    "XX_test, XX_val, yy_test, yy_val = train_test_split(XX_test, yy_test, test_size=0.5, random_state=42) "
   ]
  },
  {
   "cell_type": "code",
   "execution_count": 8,
   "id": "24574ad7-a42b-4a62-8777-a94715d2b802",
   "metadata": {},
   "outputs": [],
   "source": [
    "# Binning continous target values into 100 bins and encoding into one-hot vectors for multiclass classification \n",
    "est = KBinsDiscretizer(n_bins=100, encode='ordinal', strategy='uniform')\n",
    "labels = est.fit(y.reshape(-1,1))\n",
    "labels = est.transform(y.reshape(-1,1))"
   ]
  },
  {
   "cell_type": "code",
   "execution_count": 54,
   "id": "76717c6b-a3c0-43a2-aa75-bf5863f34d8f",
   "metadata": {},
   "outputs": [],
   "source": [
    "X_train, X_test, y_train, y_test = train_test_split(X, labels, test_size=0.2, random_state=42)\n",
    "X_test, X_val, y_test, y_val = train_test_split(X_test, y_test, test_size=0.5, random_state=42) "
   ]
  },
  {
   "cell_type": "code",
   "execution_count": 55,
   "id": "e1c0b862-c15d-4bf1-bd1e-554cab7a44e0",
   "metadata": {},
   "outputs": [],
   "source": [
    "# Feature Scaling\n",
    "scaler = StandardScaler()\n",
    "X_train = scaler.fit_transform(X_train)\n",
    "X_test = scaler.fit_transform(X_test)\n",
    "X_val =  scaler.fit_transform(X_val)"
   ]
  },
  {
   "cell_type": "code",
   "execution_count": 56,
   "id": "e221d937-6cf7-4e0f-846d-4e1d46a870ee",
   "metadata": {},
   "outputs": [],
   "source": [
    "y_train = y_train.ravel()\n",
    "y_val = y_val.ravel()\n",
    "y_test = y_test.ravel()"
   ]
  },
  {
   "cell_type": "code",
   "execution_count": 12,
   "id": "8dfada17-35a1-4577-8688-3bd905c31090",
   "metadata": {},
   "outputs": [],
   "source": [
    "best_estimators = {'max_depth':20, 'n_estimators':300}"
   ]
  },
  {
   "cell_type": "code",
   "execution_count": 13,
   "id": "09760b8e-36ba-473f-b3dc-f7e23e9fe12e",
   "metadata": {},
   "outputs": [],
   "source": [
    "rfc = RandomForestClassifier(random_state = 42, max_depth = 20, n_estimators=300, verbose = 1)"
   ]
  },
  {
   "cell_type": "code",
   "execution_count": 14,
   "id": "1dc5e377-22cb-4174-b34d-14ebbe917cb8",
   "metadata": {},
   "outputs": [
    {
     "name": "stdout",
     "output_type": "stream",
     "text": [
      "2022-12-04 04:17:19.085581\n"
     ]
    },
    {
     "name": "stderr",
     "output_type": "stream",
     "text": [
      "[Parallel(n_jobs=1)]: Using backend SequentialBackend with 1 concurrent workers.\n"
     ]
    },
    {
     "name": "stdout",
     "output_type": "stream",
     "text": [
      "2022-12-04 04:25:16.519583\n"
     ]
    },
    {
     "name": "stderr",
     "output_type": "stream",
     "text": [
      "[Parallel(n_jobs=1)]: Done 300 out of 300 | elapsed:  8.0min finished\n"
     ]
    }
   ],
   "source": [
    "# Fir Random Forest Classifier\n",
    "print(datetime.now())\n",
    "rfc.fit(X_train, y_train)\n",
    "print(datetime.now())"
   ]
  },
  {
   "cell_type": "code",
   "execution_count": 58,
   "id": "81d07df5-96b2-4213-83f1-daab3b98c0a5",
   "metadata": {},
   "outputs": [
    {
     "name": "stderr",
     "output_type": "stream",
     "text": [
      "[Parallel(n_jobs=1)]: Using backend SequentialBackend with 1 concurrent workers.\n",
      "[Parallel(n_jobs=1)]: Done 300 out of 300 | elapsed:   21.9s finished\n"
     ]
    }
   ],
   "source": [
    "# Validation set prediction\n",
    "y_pred_val = rfc.predict(X_val)"
   ]
  },
  {
   "cell_type": "code",
   "execution_count": 16,
   "id": "d91d485d-627e-45f5-acac-ef28784b3052",
   "metadata": {},
   "outputs": [
    {
     "name": "stderr",
     "output_type": "stream",
     "text": [
      "[Parallel(n_jobs=1)]: Using backend SequentialBackend with 1 concurrent workers.\n",
      "[Parallel(n_jobs=1)]: Done 300 out of 300 | elapsed:  1.4min finished\n"
     ]
    }
   ],
   "source": [
    "# Training set prediction\n",
    "y_pred_train = rfc.predict(X_train)"
   ]
  },
  {
   "cell_type": "code",
   "execution_count": 17,
   "id": "747e8185-818e-4a97-9ca4-bcd3fcb84c10",
   "metadata": {},
   "outputs": [
    {
     "data": {
      "text/plain": [
       "0.7618"
      ]
     },
     "execution_count": 17,
     "metadata": {},
     "output_type": "execute_result"
    }
   ],
   "source": [
    "# Validation set accuracy\n",
    "accuracy_score(y_pred_val, y_val)"
   ]
  },
  {
   "cell_type": "code",
   "execution_count": 18,
   "id": "cf9cd7d4-e276-4900-aaa9-53aafa1c0e0e",
   "metadata": {},
   "outputs": [
    {
     "data": {
      "text/plain": [
       "0.9309075"
      ]
     },
     "execution_count": 18,
     "metadata": {},
     "output_type": "execute_result"
    }
   ],
   "source": [
    "# Training set accuracy\n",
    "accuracy_score(y_pred_train, y_train)"
   ]
  },
  {
   "cell_type": "code",
   "execution_count": 20,
   "id": "1f3c4f44-d421-4d7b-956b-bf5812170bbd",
   "metadata": {},
   "outputs": [],
   "source": [
    "# Transform y_val to continuous values\n",
    "y_val = est.inverse_transform(yy_val)"
   ]
  },
  {
   "cell_type": "code",
   "execution_count": 43,
   "id": "4b80ff8c-9801-459b-9375-bb5f39bed0cc",
   "metadata": {},
   "outputs": [],
   "source": [
    "# Dictionary mapping class value to the mean bin value\n",
    "classes = {'bin':np.arange(-10.2485, 10.8835, 0.213), 'class':np.arange(100.0)}\n",
    "classes = {classes['class'][i] : classes['bin'][i] for i in range(len(classes['class']))}"
   ]
  },
  {
   "cell_type": "code",
   "execution_count": 72,
   "id": "f718697c-69a8-4915-809e-01add6d1e640",
   "metadata": {},
   "outputs": [],
   "source": [
    "# Convert validation predictions to continous values\n",
    "y_val_conv = est.inverse_transform(y_val.reshape(-1,1))"
   ]
  },
  {
   "cell_type": "code",
   "execution_count": 67,
   "id": "e85f2d4f-4bc6-4a2f-a73b-3c1f2fe8b456",
   "metadata": {},
   "outputs": [],
   "source": [
    "# Convert validation predictions to continous values\n",
    "y_pred_val_conv = np.zeros(len(y_val))\n",
    "for i in range(len(y_val)):\n",
    "    y_pred_val_conv[i] = classes[y_pred_val[i]]"
   ]
  },
  {
   "cell_type": "code",
   "execution_count": 73,
   "id": "2b8419c6-a0ab-4358-a0af-2d769f5ab7c0",
   "metadata": {},
   "outputs": [
    {
     "data": {
      "text/plain": [
       "array([[-3.19722602e+00],\n",
       "       [ 8.56307700e-01],\n",
       "       [ 2.93218000e-03],\n",
       "       ...,\n",
       "       [ 8.56307700e-01],\n",
       "       [ 2.93218000e-03],\n",
       "       [ 2.16276060e-01]])"
      ]
     },
     "execution_count": 73,
     "metadata": {},
     "output_type": "execute_result"
    }
   ],
   "source": [
    "y_val_conv"
   ]
  },
  {
   "cell_type": "code",
   "execution_count": 69,
   "id": "5785496d-24c6-452d-8082-91fc95498a36",
   "metadata": {},
   "outputs": [
    {
     "data": {
      "text/plain": [
       "array([-4.7105,  0.8275, -0.0245, ...,  0.8275, -0.0245,  0.1885])"
      ]
     },
     "execution_count": 69,
     "metadata": {},
     "output_type": "execute_result"
    }
   ],
   "source": [
    "y_pred_val_conv"
   ]
  },
  {
   "cell_type": "code",
   "execution_count": 76,
   "id": "2d6fc8f1-69c3-4428-8254-1f882d18d967",
   "metadata": {},
   "outputs": [
    {
     "data": {
      "text/plain": [
       "0.9177404521968447"
      ]
     },
     "execution_count": 76,
     "metadata": {},
     "output_type": "execute_result"
    }
   ],
   "source": [
    "r2_score(y_val_conv, y_pred_val_conv)"
   ]
  },
  {
   "cell_type": "code",
   "execution_count": 79,
   "id": "b4ea2ae8-a26e-4fc3-98b2-96875eab16a3",
   "metadata": {},
   "outputs": [
    {
     "data": {
      "text/plain": [
       "0.2913837886996714"
      ]
     },
     "execution_count": 79,
     "metadata": {},
     "output_type": "execute_result"
    }
   ],
   "source": [
    "mean_squared_error(y_val_conv, y_pred_val_conv)"
   ]
  },
  {
   "cell_type": "code",
   "execution_count": 80,
   "id": "dd1c6fe7-2d83-4c46-8cf0-0fc5534fa1e2",
   "metadata": {},
   "outputs": [
    {
     "data": {
      "text/plain": [
       "0.18660013848003018"
      ]
     },
     "execution_count": 80,
     "metadata": {},
     "output_type": "execute_result"
    }
   ],
   "source": [
    "mean_absolute_error(y_val_conv, y_pred_val_conv)"
   ]
  },
  {
   "cell_type": "code",
   "execution_count": 81,
   "id": "fd0595da-1695-4d2b-8bea-e1c173412dbc",
   "metadata": {},
   "outputs": [
    {
     "data": {
      "text/plain": [
       "7.198196889850471"
      ]
     },
     "execution_count": 81,
     "metadata": {},
     "output_type": "execute_result"
    }
   ],
   "source": [
    "mean_absolute_percentage_error(y_val_conv, y_pred_val_conv)"
   ]
  },
  {
   "cell_type": "code",
   "execution_count": 83,
   "id": "32499e4e-e468-4330-b475-8ba49b5aa731",
   "metadata": {},
   "outputs": [],
   "source": [
    "with open('class2continous.pickle', 'wb') as handle:\n",
    "    pickle.dump(classes, handle, protocol=pickle.HIGHEST_PROTOCOL)"
   ]
  },
  {
   "cell_type": "code",
   "execution_count": 93,
   "id": "7b543f52-37b6-4acf-a31d-7c23bcec4bcc",
   "metadata": {},
   "outputs": [],
   "source": [
    "confusion_matrix = confusion_matrix(y_val, y_pred_val)"
   ]
  },
  {
   "cell_type": "code",
   "execution_count": 100,
   "id": "b06ac9b8-8648-4926-a0b4-10379e1e63c8",
   "metadata": {},
   "outputs": [
    {
     "data": {
      "text/plain": [
       "24017"
      ]
     },
     "execution_count": 100,
     "metadata": {},
     "output_type": "execute_result"
    }
   ],
   "source": [
    "confusion_matrix.max()"
   ]
  },
  {
   "cell_type": "code",
   "execution_count": 126,
   "id": "4d34901b-15b0-4613-8f34-4eb9d93e61a7",
   "metadata": {},
   "outputs": [
    {
     "name": "stderr",
     "output_type": "stream",
     "text": [
      "/opt/conda/lib/python3.7/site-packages/sklearn/metrics/_classification.py:1318: UndefinedMetricWarning: Precision and F-score are ill-defined and being set to 0.0 in labels with no predicted samples. Use `zero_division` parameter to control this behavior.\n",
      "  _warn_prf(average, modifier, msg_start, len(result))\n",
      "/opt/conda/lib/python3.7/site-packages/sklearn/metrics/_classification.py:1318: UndefinedMetricWarning: Recall and F-score are ill-defined and being set to 0.0 in labels with no true samples. Use `zero_division` parameter to control this behavior.\n",
      "  _warn_prf(average, modifier, msg_start, len(result))\n",
      "/opt/conda/lib/python3.7/site-packages/sklearn/metrics/_classification.py:1318: UndefinedMetricWarning: Precision and F-score are ill-defined and being set to 0.0 in labels with no predicted samples. Use `zero_division` parameter to control this behavior.\n",
      "  _warn_prf(average, modifier, msg_start, len(result))\n",
      "/opt/conda/lib/python3.7/site-packages/sklearn/metrics/_classification.py:1318: UndefinedMetricWarning: Recall and F-score are ill-defined and being set to 0.0 in labels with no true samples. Use `zero_division` parameter to control this behavior.\n",
      "  _warn_prf(average, modifier, msg_start, len(result))\n",
      "/opt/conda/lib/python3.7/site-packages/sklearn/metrics/_classification.py:1318: UndefinedMetricWarning: Precision and F-score are ill-defined and being set to 0.0 in labels with no predicted samples. Use `zero_division` parameter to control this behavior.\n",
      "  _warn_prf(average, modifier, msg_start, len(result))\n",
      "/opt/conda/lib/python3.7/site-packages/sklearn/metrics/_classification.py:1318: UndefinedMetricWarning: Recall and F-score are ill-defined and being set to 0.0 in labels with no true samples. Use `zero_division` parameter to control this behavior.\n",
      "  _warn_prf(average, modifier, msg_start, len(result))\n"
     ]
    }
   ],
   "source": [
    "clf_report = pd.DataFrame(classification_report(y_val, y_pred_val, output_dict = True)).transpose()"
   ]
  },
  {
   "cell_type": "code",
   "execution_count": 144,
   "id": "30bf8c37-9c06-4a07-8379-511951983adc",
   "metadata": {},
   "outputs": [
    {
     "data": {
      "text/plain": [
       "<AxesSubplot:>"
      ]
     },
     "execution_count": 144,
     "metadata": {},
     "output_type": "execute_result"
    },
    {
     "data": {
      "image/png": "[encoded data removed]",
      "text/plain": [
       "<Figure size 640x480 with 2 Axes>"
      ]
     },
     "metadata": {},
     "output_type": "display_data"
    }
   ],
   "source": [
    "# Calssification Report\n",
    "clf_report_np = clf_report.iloc[:-3,:-1]\n",
    "sns.heatmap(clf_report_np)"
   ]
  },
  {
   "cell_type": "code",
   "execution_count": 137,
   "id": "0deb36e9-3642-4ea3-bb7e-b1608e3f4cc7",
   "metadata": {},
   "outputs": [
    {
     "data": {
      "text/plain": [
       "Text(0.5, 1.0, 'Predicted Differences')"
      ]
     },
     "execution_count": 137,
     "metadata": {},
     "output_type": "execute_result"
    },
    {
     "data": {
      "image/png": "[encoded data removed]",
      "text/plain": [
       "<Figure size 640x480 with 2 Axes>"
      ]
     },
     "metadata": {},
     "output_type": "display_data"
    }
   ],
   "source": [
    "plt.subplot(121)\n",
    "plt.grid()\n",
    "plt.hist(y_val_conv, bins = 20, density = True)\n",
    "plt.title('Original Differences')\n",
    "plt.subplot(122)\n",
    "plt.grid()\n",
    "plt.hist(y_pred_val_conv, bins = 20, density = True)\n",
    "plt.title('Predicted Differences')"
   ]
  },
  {
   "cell_type": "code",
   "execution_count": null,
   "id": "b4274f94-e14f-4d4f-b1e6-fcf4265c32f5",
   "metadata": {},
   "outputs": [],
   "source": [
    "plt.plot"
   ]
  }
 ],
 "metadata": {
  "environment": {
   "kernel": "python3",
   "name": "common-cu110.m100",
   "type": "gcloud",
   "uri": "gcr.io/deeplearning-platform-release/base-cu110:m100"
  },
  "kernelspec": {
   "display_name": "Python 3",
   "language": "python",
   "name": "python3"
  },
  "language_info": {
   "codemirror_mode": {
    "name": "ipython",
    "version": 3
   },
   "file_extension": ".py",
   "mimetype": "text/x-python",
   "name": "python",
   "nbconvert_exporter": "python",
   "pygments_lexer": "ipython3",
   "version": "3.7.12"
  }
 },
 "nbformat": 4,
 "nbformat_minor": 5
}
